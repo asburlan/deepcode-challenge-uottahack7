{
  "nbformat": 4,
  "nbformat_minor": 0,
  "metadata": {
    "colab": {
      "provenance": []
    },
    "kernelspec": {
      "name": "python3",
      "display_name": "Python 3"
    },
    "language_info": {
      "name": "python"
    }
  },
  "cells": [
    {
      "cell_type": "code",
      "execution_count": null,
      "metadata": {
        "id": "o2lp6RW7YlLJ"
      },
      "outputs": [],
      "source": [
        "import pandas as pd\n",
        "import requests\n",
        "import socket\n",
        "import ipaddress"
      ]
    },
    {
      "cell_type": "code",
      "source": [
        "# prompt: read sample.txt and find and replace \":::\" and \"::\" with \":\"\n",
        "\n",
        "import pandas as pd\n",
        "\n",
        "def find_and_replace(input_file, output_file):\n",
        "    try:\n",
        "        with open(input_file, 'r') as infile, open(output_file, 'w') as outfile:\n",
        "            for line in infile:\n",
        "                # Replace \":::\" and \"::\" with \":\"\n",
        "                modified_line = line.replace(\":::\", \":\").replace(\"::\", \":\")\n",
        "                outfile.write(modified_line)\n",
        "    except FileNotFoundError:\n",
        "        print(f\"Error: Input file '{input_file}' not found.\")\n",
        "    except Exception as e:\n",
        "        print(f\"An error occurred: {e}\")\n",
        "\n",
        "# Example usage\n",
        "input_filename = \"sample.txt\"  # Replace with your input file name\n",
        "output_filename = \"mod.txt\"  # Replace with your desired output file name\n",
        "find_and_replace(input_filename, output_filename)"
      ],
      "metadata": {
        "id": "MpA2nTQ6YoJK"
      },
      "execution_count": null,
      "outputs": []
    },
    {
      "cell_type": "code",
      "source": [
        "# prompt: for lines in modified_sample.txt with 4 or more colons, remove everything including and after the fourth colon\n",
        "\n",
        "import pandas as pd\n",
        "\n",
        "\n",
        "def find_and_replace(input_file, output_file):\n",
        "    try:\n",
        "        with open(input_file, 'r') as infile, open(output_file, 'w') as outfile:\n",
        "            for line in infile:\n",
        "                # Replace \":::\" and \"::\" with \":\"\n",
        "                modified_line = line.replace(\":::\", \":\").replace(\"::\", \":\")\n",
        "                outfile.write(modified_line)\n",
        "    except FileNotFoundError:\n",
        "        print(f\"Error: Input file '{input_file}' not found.\")\n",
        "    except Exception as e:\n",
        "        print(f\"An error occurred: {e}\")\n",
        "\n",
        "\n",
        "def process_modified_file(input_file, output_file):\n",
        "    try:\n",
        "        with open(input_file, 'r') as infile, open(output_file, 'w') as outfile:\n",
        "            for line in infile:\n",
        "                colons = line.count(':')\n",
        "                if colons >= 4:\n",
        "                    parts = line.split(':', 4)  # Split at most 4 times\n",
        "                    outfile.write(':'.join(parts[:4]) + '\\n')\n",
        "                else:\n",
        "                    outfile.write(line)\n",
        "    except FileNotFoundError:\n",
        "        print(f\"Error: Input file '{input_file}' not found.\")\n",
        "    except Exception as e:\n",
        "        print(f\"An error occurred: {e}\")\n",
        "\n",
        "\n",
        "# Example usage\n",
        "input_filename = \"sample.txt\"  # Replace with your input file name\n",
        "modified_filename = \"modified_sample.txt\"  # Replace with your desired output file name\n",
        "find_and_replace(input_filename, modified_filename)\n",
        "\n",
        "final_output_filename = \"final_output.txt\"\n",
        "process_modified_file(modified_filename, final_output_filename)"
      ],
      "metadata": {
        "id": "KI8kMYdlZEHI"
      },
      "execution_count": null,
      "outputs": []
    },
    {
      "cell_type": "code",
      "source": [
        "# prompt: use pd read csv and print the tail\n",
        "\n",
        "import pandas as pd\n",
        "\n",
        "# Assuming 'final_output.txt' is your file\n",
        "try:\n",
        "    df = pd.read_csv('final_output.txt', sep=':', header=None, engine='python')\n",
        "    print(df.tail())\n",
        "except FileNotFoundError:\n",
        "    print(\"Error: 'final_output.txt' not found.\")\n",
        "except pd.errors.ParserError:\n",
        "    print(\"Error: Could not parse 'final_output.txt'. Check file format and delimiter.\")\n",
        "except Exception as e:\n",
        "    print(f\"An unexpected error occurred: {e}\")"
      ],
      "metadata": {
        "colab": {
          "base_uri": "https://localhost:8080/"
        },
        "id": "bXjTUCqHZYNC",
        "outputId": "71131c5c-35cc-408b-ce77-b9d948523172"
      },
      "execution_count": null,
      "outputs": [
        {
          "output_type": "stream",
          "name": "stdout",
          "text": [
            "            0                                                  1       2  \\\n",
            "364072  https  //www.orange.eg/ar/business/myaccount/captcha-...  ******   \n",
            "364073  https                                   //www.roblox.com  ******   \n",
            "364074  https           //portal.nttrv2.helixsense.com/web/login  ******   \n",
            "364075  https                               //www.sammobile.com/  ******   \n",
            "364076  https                                        //btcs.love  ******   \n",
            "\n",
            "               3  \n",
            "364072  ********  \n",
            "364073  ********  \n",
            "364074  ********  \n",
            "364075  ********  \n",
            "364076  ********  \n"
          ]
        }
      ]
    },
    {
      "cell_type": "code",
      "source": [
        "# prompt: append \":\" + column 1 to column 0, and then shift columns 2 and 3 over\n",
        "\n",
        "import pandas as pd\n",
        "\n",
        "# Assuming 'final_output.txt' is your file\n",
        "try:\n",
        "    df = pd.read_csv('final_output.txt', sep=':', header=None, engine='python')\n",
        "\n",
        "    # Append \":\" + column 1 to column 0\n",
        "    df[0] = df[0] + \":\" + df[1].astype(str)\n",
        "\n",
        "    # Shift columns 2 and 3 over (assuming you want to delete the original column 1)\n",
        "    df = df.drop(columns=1)\n",
        "\n",
        "    # Rename columns (optional, adjust as needed)\n",
        "    df.columns = ['URI', 'username', 'password']\n",
        "\n",
        "    print(df.tail())\n",
        "\n",
        "except FileNotFoundError:\n",
        "    print(\"Error: 'final_output.txt' not found.\")\n",
        "except pd.errors.ParserError:\n",
        "    print(\"Error: Could not parse 'final_output.txt'. Check file format and delimiter.\")\n",
        "except Exception as e:\n",
        "    print(f\"An unexpected error occurred: {e}\")"
      ],
      "metadata": {
        "colab": {
          "base_uri": "https://localhost:8080/"
        },
        "id": "oVWheDYT9qlN",
        "outputId": "3ad588b8-9cde-491f-f8a5-2bce8713527c"
      },
      "execution_count": null,
      "outputs": [
        {
          "output_type": "stream",
          "name": "stdout",
          "text": [
            "                                                      URI username  password\n",
            "364072  https://www.orange.eg/ar/business/myaccount/ca...   ******  ********\n",
            "364073                             https://www.roblox.com   ******  ********\n",
            "364074     https://portal.nttrv2.helixsense.com/web/login   ******  ********\n",
            "364075                         https://www.sammobile.com/   ******  ********\n",
            "364076                                  https://btcs.love   ******  ********\n"
          ]
        }
      ]
    },
    {
      "cell_type": "code",
      "source": [
        "# prompt: output this df to \"final_output_final.txt\"\n",
        "\n",
        "try:\n",
        "    df.to_csv(\"final_output_final.txt\", sep=\":\", header=None, index=False)\n",
        "    print(f\"DataFrame successfully saved to final_output_final.txt\")\n",
        "except Exception as e:\n",
        "    print(f\"An error occurred while saving the DataFrame: {e}\")"
      ],
      "metadata": {
        "colab": {
          "base_uri": "https://localhost:8080/"
        },
        "id": "WTpVH5Ha_66S",
        "outputId": "7a91060b-72b3-472d-cba4-a13101287560"
      },
      "execution_count": null,
      "outputs": [
        {
          "output_type": "stream",
          "name": "stdout",
          "text": [
            "DataFrame successfully saved to final_output_final.txt\n"
          ]
        }
      ]
    },
    {
      "cell_type": "code",
      "source": [
        "# prompt: update the df with a column on the left 'id' and print the tail and save it as \"final_output_final_final.txt\"\n",
        "\n",
        "import pandas as pd\n",
        "\n",
        "try:\n",
        "    df = pd.read_csv('final_output_final.txt', sep=':', header=None, engine='python')\n",
        "\n",
        "    # Insert 'id' column as the first column with values from 0 to n-1\n",
        "    df.insert(0, 'id', range(len(df)))\n",
        "\n",
        "    print(df.tail())\n",
        "\n",
        "    df.to_csv(\"final_output_final_final.txt\", sep=\":\", header=None, index=False)\n",
        "    print(f\"DataFrame successfully saved to final_output_final_final.txt\")\n",
        "\n",
        "except FileNotFoundError:\n",
        "    print(\"Error: 'final_output.txt' not found.\")\n",
        "except pd.errors.ParserError:\n",
        "    print(\"Error: Could not parse 'final_output.txt'. Check file format and delimiter.\")\n",
        "except Exception as e:\n",
        "    print(f\"An unexpected error occurred: {e}\")"
      ],
      "metadata": {
        "colab": {
          "base_uri": "https://localhost:8080/"
        },
        "id": "x8aaOwjFsF3v",
        "outputId": "6c7028e0-bb67-40a9-a788-0f691bdec1a1"
      },
      "execution_count": null,
      "outputs": [
        {
          "output_type": "stream",
          "name": "stdout",
          "text": [
            "            id                                                  0       1  \\\n",
            "364072  364072  https://www.orange.eg/ar/business/myaccount/ca...  ******   \n",
            "364073  364073                             https://www.roblox.com  ******   \n",
            "364074  364074     https://portal.nttrv2.helixsense.com/web/login  ******   \n",
            "364075  364075                         https://www.sammobile.com/  ******   \n",
            "364076  364076                                  https://btcs.love  ******   \n",
            "\n",
            "               2  \n",
            "364072  ********  \n",
            "364073  ********  \n",
            "364074  ********  \n",
            "364075  ********  \n",
            "364076  ********  \n",
            "DataFrame successfully saved to final_output_final_final.txt\n"
          ]
        }
      ]
    },
    {
      "cell_type": "code",
      "source": [
        "# prompt: take final_output_final_final.txt, use ipaddress to find out if the uri is a private ip. update the df and save that as a new collumn. save it as final_output_with_priv.txt\n",
        "\n",
        "import pandas as pd\n",
        "import ipaddress\n",
        "from urllib.parse import urlparse\n",
        "\n",
        "\n",
        "def is_private_ip(uri_str):\n",
        "    try:\n",
        "        parsed_uri = urlparse(uri_str)\n",
        "        # Extract hostname (which might be an IP)\n",
        "        hostname = parsed_uri.hostname\n",
        "        # Check if hostname is a valid IP and private\n",
        "        ip = ipaddress.ip_address(hostname)\n",
        "        return ip.is_private\n",
        "    except (ValueError, TypeError):  # Handle invalid IPs or missing hostnames\n",
        "        return False\n",
        "\n",
        "\n",
        "\n",
        "try:\n",
        "    df = pd.read_csv('final_output_final_final.txt', sep=':', header=None, engine='python')\n",
        "\n",
        "\n",
        "\n",
        "    # Apply the function to the URI column and create a new column 'is_private'\n",
        "    df['is_private'] = df[1].apply(is_private_ip)\n",
        "\n",
        "    print(df.tail())\n",
        "\n",
        "\n",
        "    print(df[df['is_private'] == True].tail())\n",
        "\n",
        "\n",
        "\n",
        "    df.to_csv(\"final_output_with_priv.txt\", sep=\":\", header=None, index=False)\n",
        "    print(f\"DataFrame successfully saved to final_output_with_priv.txt\")\n",
        "\n",
        "except FileNotFoundError:\n",
        "    print(\"Error: 'final_output_final_final.txt' not found.\")\n",
        "except pd.errors.ParserError:\n",
        "    print(\"Error: Could not parse 'final_output_final_final.txt'. Check file format and delimiter.\")\n",
        "except Exception as e:\n",
        "    print(f\"An unexpected error occurred: {e}\")"
      ],
      "metadata": {
        "colab": {
          "base_uri": "https://localhost:8080/"
        },
        "id": "H_XrpDXpDXXS",
        "outputId": "f48a063e-c179-4dfa-aae0-5a93228d241a"
      },
      "execution_count": null,
      "outputs": [
        {
          "output_type": "stream",
          "name": "stdout",
          "text": [
            "             0                                                  1       2  \\\n",
            "364072  364072  https://www.orange.eg/ar/business/myaccount/ca...  ******   \n",
            "364073  364073                             https://www.roblox.com  ******   \n",
            "364074  364074     https://portal.nttrv2.helixsense.com/web/login  ******   \n",
            "364075  364075                         https://www.sammobile.com/  ******   \n",
            "364076  364076                                  https://btcs.love  ******   \n",
            "\n",
            "               3  is_private  \n",
            "364072  ********       False  \n",
            "364073  ********       False  \n",
            "364074  ********       False  \n",
            "364075  ********       False  \n",
            "364076  ********       False  \n",
            "             0                                         1       2         3  \\\n",
            "363270  363270  http://192.168.0.1/device-map/router.asp  ******  ********   \n",
            "363310  363310                       http://192.168.0.1/  ******  ********   \n",
            "363615  363615                      https://192.168.1.1/  ******  ********   \n",
            "363716  363716                    https://172.16.52.207/  ******  ********   \n",
            "363787  363787                       http://192.168.0.1/  ******  ********   \n",
            "\n",
            "        is_private  \n",
            "363270        True  \n",
            "363310        True  \n",
            "363615        True  \n",
            "363716        True  \n",
            "363787        True  \n",
            "DataFrame successfully saved to final_output_with_priv.txt\n"
          ]
        }
      ]
    },
    {
      "cell_type": "markdown",
      "source": [
        "1. ! A user should be able to find all accounts associated with a specific domain or IP address.\n",
        "2. x A user should be able to find all accounts associated with a specific application (e.g., wordpress, citrix).\n",
        "3. x A user should be able to find all accounts associated with a specific port (e.g., 443, 3000, 8080).\n",
        "4. ? A user should be able to find all accounts associated with a specific URL path (e.g., /rdweb/, wp-login.php, /citrix/).\n",
        "5. ! A user should be able to exclude non-routable IP ranges from searches (e.g., 127.0.0.1, localhost, 192.168.x.x).\n",
        "6. x A user should be able to search for or exclude specific tags (e.g., resolved, local-ip, parked, active).\n",
        "7. x Confirm that a domain resolves to an IP address. If not, tag the domain as \"unresolved.\"\n",
        "8. x Confirm that the URL is accessible (status code 200), and tag the URL accordingly.\n",
        "9. x Retrieve and store the title of the URL in the database.\n",
        "10. x Assess if a domain is parked or has no content, and tag the domain accordingly.\n",
        "11. x Identify whether the URL contains a login form, and tag the URL if applicable.\n",
        "12. x Identify the web application associated with the login form (e.g., WordPress, Citrix, Cisco, Coremail, RDWeb), and tag the URL accordingly.\n",
        "13. x Assess whether the login form requires a CAPTCHA, and tag the URL if applicable.\n",
        "14. x Assess whether the login form requires an OTP (multi-factor authentication), and tag the URL if applicable.\n",
        "15. x Assess whether the domain has ever been ransomed or is part of a breach, and tag the URL if applicable.\n"
      ],
      "metadata": {
        "id": "3v2Ci-ukkF6g"
      }
    },
    {
      "cell_type": "markdown",
      "source": [
        "out of scope :("
      ],
      "metadata": {
        "id": "YyVSfxXStNlz"
      }
    },
    {
      "cell_type": "code",
      "source": [
        "\n",
        "#tuf\n",
        "\n",
        "class Domain:\n",
        "  def __init__(self, domain):\n",
        "      self.domain = domain\n",
        "      self.resolve = self.resolve()\n",
        "      self.is_parked = self.is_domain_parked(domain)\n",
        "\n",
        "  def resolve(self):\n",
        "      try:\n",
        "          ip_address = socket.gethostbyname(self.domain)\n",
        "          return ip_address\n",
        "      except socket.gaierror:\n",
        "          return None\n",
        "\n",
        "  def has_ip(url):\n",
        "      try:\n",
        "          ip_address = socket.gethostbyname(url)\n",
        "          return True\n",
        "      except socket.gaierror:\n",
        "          return False\n",
        "\n",
        "  def has_ip(url):\n",
        "      try:\n",
        "           socket.gethostbyname(url)\n",
        "      except socket.gaierror:\n",
        "          return None\n",
        "\n",
        "  def is_domain_parked(domain):\n",
        "      try:\n",
        "          response = requests.get(f\"http://{domain}\", timeout=10)\n",
        "          if response.status_code == 200:\n",
        "              # Look for common parking keywords\n",
        "              if \"domain is parked\" in response.text.lower() or \"this domain is for sale\" in response.text.lower():\n",
        "                  return True\n",
        "          return False\n",
        "      except requests.RequestException:\n",
        "          return False\n"
      ],
      "metadata": {
        "id": "QuiZYtMMbPRj"
      },
      "execution_count": null,
      "outputs": []
    },
    {
      "cell_type": "code",
      "source": [
        "class URI:\n",
        "  def __init__(self, uri):\n",
        "      self.uri = uri\n",
        "      self.uri_acessible = self.uri_acessible()\n",
        "      self.has_ip = self.has_ip()\n",
        "      self.ip_local = self.is_private_ip()\n",
        "      self.resolve = self.resolve()\n",
        "      self.title = self.get_title()\n",
        "      self.has_login_form = self.has_login_form()\n",
        "      self.get_web_application = self.get_web_application()\n",
        "      self.login_requires_captcha = self.login_requires_captcha()\n",
        "\n",
        "  def resolve(self):\n",
        "      try:\n",
        "          ip_address = socket.gethostbyname(self.uri)\n",
        "          return ip_address\n",
        "      except socket.gaierror:\n",
        "          return None\n",
        "\n",
        "  def uri_acessible(uri):\n",
        "      try:\n",
        "          response = requests.get(uri)\n",
        "          if response.status_code == 200:\n",
        "              return True\n",
        "          else:\n",
        "              return False\n",
        "      except requests.exceptions.RequestException:\n",
        "          return False\n",
        "\n",
        "\n",
        "  def has_ip(uri):\n",
        "      try:\n",
        "          ip_address = socket.gethostbyname(uri)\n",
        "          return True\n",
        "      except socket.gaierror:\n",
        "          return False\n",
        "\n",
        "  def get_title(self):\n",
        "      try:\n",
        "          response = requests.get(self.uri)\n",
        "          soup = BeautifulSoup(response.text, 'html.parser')\n",
        "          title = soup.title.string.strip()\n",
        "          return title\n",
        "      except requests.exceptions.RequestException:\n",
        "          return None\n",
        "\n",
        "\n",
        "  def has_login_form(self):\n",
        "      try:\n",
        "          response = requests.get(self.uri)\n",
        "          soup = BeautifulSoup(response.text, 'html.parser')\n",
        "          login_form = soup.find('form', {'action': '/login'})\n",
        "          return bool(login_form)\n",
        "      except requests.exceptions.RequestException:\n",
        "          return False\n",
        "\n",
        "\n",
        "  def login_requires_captcha(self):\n",
        "      try:\n",
        "          response = requests.get(self.uri)\n",
        "          soup = BeautifulSoup(response.text, 'html.parser')\n",
        "          captcha_form = soup.find('form', {'action': '/login'})\n",
        "          if captcha_form:\n",
        "              captcha_field = captcha_form.find('input', {'name': 'captcha'})\n",
        "              return bool(captcha_field)\n",
        "          return False\n",
        "      except requests.exceptions.RequestException:\n",
        "          return False\n",
        "\n",
        "  def login_requires_otp(self):\n",
        "      try:\n",
        "          response = requests.get(self.uri)\n",
        "          soup = BeautifulSoup(response.text, 'html.parser')\n",
        "          otp_form = soup.find('form', {'action': '/login'})\n",
        "          if otp_form:\n",
        "              otp_field = otp_form.find('input', {'name': 'otp'})\n",
        "              return bool(otp_field)\n",
        "          return False\n",
        "      except requests.exceptions.RequestException:\n",
        "          return False\n",
        "\n",
        "  def get_web_application(self):\n",
        "      try:\n",
        "          response = requests.get(self.uri)\n",
        "          soup = BeautifulSoup(response.text, 'html.parser')\n",
        "          login_form = soup.find('form', {'action': '/login'})\n",
        "          if login_form:\n",
        "              action = login_form.get('action', '').lower()\n",
        "              if 'wordpress' in action:\n",
        "                  return 'WordPress'\n",
        "              elif 'citrix' in action:\n",
        "                  return 'Citrix'\n",
        "              elif 'cisco' in action:\n",
        "                  return 'Cisco'\n",
        "              elif 'coremail' in action:\n",
        "                  return 'Coremail'\n",
        "              elif 'rdweb' in action:\n",
        "                  return 'RDWeb'\n",
        "          return None\n",
        "      except requests.exceptions.RequestException:\n",
        "          return None\n",
        "\n",
        "      def is_private_ip(ip_address):\n",
        "          \"\"\"Checks if an IP address is private.\"\"\"\n",
        "          try:\n",
        "              ip = ipaddress.ip_address(ip_address)\n",
        "              return ip.is_private\n",
        "          except ValueError:\n",
        "              return False  # Invalid IP address\n",
        "\n",
        "\n"
      ],
      "metadata": {
        "id": "32MKZpzxHorE"
      },
      "execution_count": null,
      "outputs": []
    }
  ]
}